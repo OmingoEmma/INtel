{
 "cells": [
  {
   "cell_type": "code",
   "execution_count": 1,
   "id": "406e2bcd-315d-46c0-a454-6226a7312f57",
   "metadata": {},
   "outputs": [],
   "source": [
    "# Add parent directory to system path so that `src` can be imported\n",
    "import sys, os\n",
    "sys.path.append(os.path.abspath(\"..\"))\n"
   ]
  },
  {
   "cell_type": "code",
   "execution_count": 2,
   "id": "162a9a04-b28b-4faa-a68b-3875fb23a6bd",
   "metadata": {},
   "outputs": [],
   "source": [
    "# Import functions for feature merging\n",
    "from src.integration.merge_features import (\n",
    "    preprocess_merged_data,\n",
    "    merge_with_economic_indicators,\n",
    "    save_outputs\n",
    ")"
   ]
  },
  {
   "cell_type": "code",
   "execution_count": 3,
   "id": "036f7d11-336a-47bb-ae98-62170099d988",
   "metadata": {},
   "outputs": [],
   "source": [
    "# Run the full pipeline: load, merge, save\n",
    "news_df = preprocess_merged_data()\n",
    "merged_df = merge_with_economic_indicators(news_df)\n",
    "save_outputs(merged_df)\n"
   ]
  },
  {
   "cell_type": "code",
   "execution_count": 4,
   "id": "f746ac1b-5500-4c39-800a-6d795b191442",
   "metadata": {},
   "outputs": [
    {
     "data": {
      "text/html": [
       "<div>\n",
       "<style scoped>\n",
       "    .dataframe tbody tr th:only-of-type {\n",
       "        vertical-align: middle;\n",
       "    }\n",
       "\n",
       "    .dataframe tbody tr th {\n",
       "        vertical-align: top;\n",
       "    }\n",
       "\n",
       "    .dataframe thead th {\n",
       "        text-align: right;\n",
       "    }\n",
       "</style>\n",
       "<table border=\"1\" class=\"dataframe\">\n",
       "  <thead>\n",
       "    <tr style=\"text-align: right;\">\n",
       "      <th></th>\n",
       "      <th>title</th>\n",
       "      <th>text</th>\n",
       "      <th>cleaned_text</th>\n",
       "      <th>sentiment_score</th>\n",
       "      <th>entities</th>\n",
       "      <th>country</th>\n",
       "      <th>date</th>\n",
       "      <th>gdp</th>\n",
       "      <th>cpi</th>\n",
       "      <th>unemployment</th>\n",
       "    </tr>\n",
       "  </thead>\n",
       "  <tbody>\n",
       "    <tr>\n",
       "      <th>0</th>\n",
       "      <td>Kenya inflation update</td>\n",
       "      <td>Kenya faces rising inflation &lt;b&gt;amid&lt;/b&gt; new f...</td>\n",
       "      <td>kenya face rising inflation amid new fuel subs...</td>\n",
       "      <td>0.068182</td>\n",
       "      <td>[(kenya, GPE)]</td>\n",
       "      <td>Kenya</td>\n",
       "      <td>2024-01-01</td>\n",
       "      <td>120.5</td>\n",
       "      <td>7.2</td>\n",
       "      <td>5.4</td>\n",
       "    </tr>\n",
       "    <tr>\n",
       "      <th>1</th>\n",
       "      <td>UK economy</td>\n",
       "      <td>Experts say the UK may avoid recession. GDP gr...</td>\n",
       "      <td>expert say uk may avoid recession gdp growth s...</td>\n",
       "      <td>0.166667</td>\n",
       "      <td>[(uk, GPE)]</td>\n",
       "      <td>Uk</td>\n",
       "      <td>2024-01-01</td>\n",
       "      <td>2700.0</td>\n",
       "      <td>3.5</td>\n",
       "      <td>4.1</td>\n",
       "    </tr>\n",
       "    <tr>\n",
       "      <th>2</th>\n",
       "      <td>Empty article</td>\n",
       "      <td>NaN</td>\n",
       "      <td>NaN</td>\n",
       "      <td>0.000000</td>\n",
       "      <td>[]</td>\n",
       "      <td>None</td>\n",
       "      <td>2024-01-01</td>\n",
       "      <td>NaN</td>\n",
       "      <td>NaN</td>\n",
       "      <td>NaN</td>\n",
       "    </tr>\n",
       "  </tbody>\n",
       "</table>\n",
       "</div>"
      ],
      "text/plain": [
       "                    title                                               text  \\\n",
       "0  Kenya inflation update  Kenya faces rising inflation <b>amid</b> new f...   \n",
       "1              UK economy  Experts say the UK may avoid recession. GDP gr...   \n",
       "2           Empty article                                                NaN   \n",
       "\n",
       "                                        cleaned_text  sentiment_score  \\\n",
       "0  kenya face rising inflation amid new fuel subs...         0.068182   \n",
       "1  expert say uk may avoid recession gdp growth s...         0.166667   \n",
       "2                                                NaN         0.000000   \n",
       "\n",
       "         entities country        date     gdp  cpi  unemployment  \n",
       "0  [(kenya, GPE)]   Kenya  2024-01-01   120.5  7.2           5.4  \n",
       "1     [(uk, GPE)]      Uk  2024-01-01  2700.0  3.5           4.1  \n",
       "2              []    None  2024-01-01     NaN  NaN           NaN  "
      ]
     },
     "execution_count": 4,
     "metadata": {},
     "output_type": "execute_result"
    }
   ],
   "source": [
    "# Display merged result\n",
    "merged_df.head()"
   ]
  }
 ],
 "metadata": {
  "kernelspec": {
   "display_name": "Python 3 (ipykernel)",
   "language": "python",
   "name": "python3"
  },
  "language_info": {
   "codemirror_mode": {
    "name": "ipython",
    "version": 3
   },
   "file_extension": ".py",
   "mimetype": "text/x-python",
   "name": "python",
   "nbconvert_exporter": "python",
   "pygments_lexer": "ipython3",
   "version": "3.10.18"
  }
 },
 "nbformat": 4,
 "nbformat_minor": 5
}
