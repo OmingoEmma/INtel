{
 "cells": [
  {
   "cell_type": "code",
   "execution_count": 1,
   "id": "79912e4c-9a0b-48a2-b0db-246a80ee74e4",
   "metadata": {},
   "outputs": [],
   "source": [
    "import sys\n",
    "import os\n",
    "sys.path.append(os.path.abspath(\"..\"))\n"
   ]
  },
  {
   "cell_type": "code",
   "execution_count": 2,
   "id": "7429345c-5cad-46fc-aaf9-af0759effabe",
   "metadata": {
    "scrolled": true
   },
   "outputs": [
    {
     "name": "stderr",
     "output_type": "stream",
     "text": [
      "[nltk_data] Downloading package punkt to /home/emma/nltk_data...\n",
      "[nltk_data]   Package punkt is already up-to-date!\n",
      "[nltk_data] Downloading package stopwords to /home/emma/nltk_data...\n",
      "[nltk_data]   Package stopwords is already up-to-date!\n",
      "[nltk_data] Downloading package wordnet to /home/emma/nltk_data...\n",
      "[nltk_data]   Package wordnet is already up-to-date!\n"
     ]
    },
    {
     "data": {
      "text/plain": [
       "True"
      ]
     },
     "execution_count": 2,
     "metadata": {},
     "output_type": "execute_result"
    }
   ],
   "source": [
    "import nltk\n",
    "nltk.download('punkt', download_dir='/home/emma/nltk_data')\n",
    "nltk.download('stopwords', download_dir='/home/emma/nltk_data')\n",
    "nltk.download('wordnet', download_dir='/home/emma/nltk_data')"
   ]
  },
  {
   "cell_type": "code",
   "execution_count": 3,
   "id": "e4212faa-d5ec-430c-b67f-6b3216339873",
   "metadata": {},
   "outputs": [
    {
     "name": "stderr",
     "output_type": "stream",
     "text": [
      "[nltk_data] Downloading package stopwords to /home/emma/nltk_data...\n",
      "[nltk_data]   Package stopwords is already up-to-date!\n",
      "[nltk_data] Downloading package wordnet to /home/emma/nltk_data...\n",
      "[nltk_data]   Package wordnet is already up-to-date!\n"
     ]
    }
   ],
   "source": [
    "from src.preprocessing.clean_text import clean_text"
   ]
  },
  {
   "cell_type": "code",
   "execution_count": 4,
   "id": "7e4488f9-fa90-4def-b323-8d00c71781b9",
   "metadata": {},
   "outputs": [],
   "source": [
    "import pandas as pd\n"
   ]
  },
  {
   "cell_type": "code",
   "execution_count": 5,
   "id": "145a44e4-7f0b-45b3-9e13-b45e0c43fffb",
   "metadata": {},
   "outputs": [
    {
     "data": {
      "text/html": [
       "<div>\n",
       "<style scoped>\n",
       "    .dataframe tbody tr th:only-of-type {\n",
       "        vertical-align: middle;\n",
       "    }\n",
       "\n",
       "    .dataframe tbody tr th {\n",
       "        vertical-align: top;\n",
       "    }\n",
       "\n",
       "    .dataframe thead th {\n",
       "        text-align: right;\n",
       "    }\n",
       "</style>\n",
       "<table border=\"1\" class=\"dataframe\">\n",
       "  <thead>\n",
       "    <tr style=\"text-align: right;\">\n",
       "      <th></th>\n",
       "      <th>title</th>\n",
       "      <th>cleaned_text</th>\n",
       "    </tr>\n",
       "  </thead>\n",
       "  <tbody>\n",
       "    <tr>\n",
       "      <th>0</th>\n",
       "      <td>Kenya inflation update</td>\n",
       "      <td>kenya face rising inflation amid new fuel subs...</td>\n",
       "    </tr>\n",
       "    <tr>\n",
       "      <th>1</th>\n",
       "      <td>UK economy</td>\n",
       "      <td>expert say uk may avoid recession gdp growth s...</td>\n",
       "    </tr>\n",
       "    <tr>\n",
       "      <th>2</th>\n",
       "      <td>Empty article</td>\n",
       "      <td></td>\n",
       "    </tr>\n",
       "  </tbody>\n",
       "</table>\n",
       "</div>"
      ],
      "text/plain": [
       "                    title                                       cleaned_text\n",
       "0  Kenya inflation update  kenya face rising inflation amid new fuel subs...\n",
       "1              UK economy  expert say uk may avoid recession gdp growth s...\n",
       "2           Empty article                                                   "
      ]
     },
     "execution_count": 5,
     "metadata": {},
     "output_type": "execute_result"
    }
   ],
   "source": [
    "df = pd.read_json(\"../data/raw/news_sample.json\")\n",
    "df['cleaned_text'] = df['text'].fillna('').apply(clean_text)\n",
    "df[['title', 'cleaned_text']]"
   ]
  },
  {
   "cell_type": "code",
   "execution_count": 6,
   "id": "d52dcfb2-000b-4d7a-a512-c0c1ab41d59f",
   "metadata": {},
   "outputs": [],
   "source": [
    "df.to_csv(\"../data/processed/cleaned_articles.csv\", index=False)\n"
   ]
  },
  {
   "cell_type": "code",
   "execution_count": 7,
   "id": "c1484d8d-92da-4d5b-b132-7d2a3dccd200",
   "metadata": {},
   "outputs": [],
   "source": [
    "import nltk\n",
    "nltk.data.path.clear()  # Clear all old paths\n",
    "nltk.data.path.append('/home/emma/nltk_data')  # Point to your actual folder"
   ]
  },
  {
   "cell_type": "code",
   "execution_count": 8,
   "id": "286b223b-0185-430f-b61e-b7d16e793bcf",
   "metadata": {},
   "outputs": [
    {
     "name": "stdout",
     "output_type": "stream",
     "text": [
      "Punkt tokenizer loaded successfully!\n"
     ]
    },
    {
     "name": "stderr",
     "output_type": "stream",
     "text": [
      "[nltk_data] Downloading package punkt to /home/emma/nltk_data...\n",
      "[nltk_data]   Package punkt is already up-to-date!\n"
     ]
    }
   ],
   "source": [
    "import nltk\n",
    "nltk.download('punkt')  # Already done, but run again to be safe\n",
    "\n",
    "# 👇 Force-clear cache and reload the tokenizer properly\n",
    "from nltk.tokenize.punkt import PunktSentenceTokenizer, PunktParameters\n",
    "tokenizer = PunktSentenceTokenizer()  # This initializes the default English tokenizer\n",
    "print(\"Punkt tokenizer loaded successfully!\")\n"
   ]
  }
 ],
 "metadata": {
  "kernelspec": {
   "display_name": "Python 3 (ipykernel)",
   "language": "python",
   "name": "python3"
  },
  "language_info": {
   "codemirror_mode": {
    "name": "ipython",
    "version": 3
   },
   "file_extension": ".py",
   "mimetype": "text/x-python",
   "name": "python",
   "nbconvert_exporter": "python",
   "pygments_lexer": "ipython3",
   "version": "3.10.18"
  }
 },
 "nbformat": 4,
 "nbformat_minor": 5
}
