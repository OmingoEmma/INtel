{
 "cells": [
  {
   "cell_type": "code",
   "execution_count": null,
   "id": "a0256325-2fea-487a-9724-4c4a9c28085b",
   "metadata": {},
   "outputs": [],
   "source": [
    "from src.integration.merge_features import (\n",
    "    preprocess_merged_data,\n",
    "    merge_with_economic_indicators,\n",
    "    save_outputs,\n",
    ")\n",
    "\n",
    "df = preprocess_merged_data()\n",
    "merged_df = merge_with_economic_indicators(df)\n",
    "save_outputs(merged_df)\n",
    "merged_df.head()\n"
   ]
  }
 ],
 "metadata": {
  "kernelspec": {
   "display_name": "Python 3 (ipykernel)",
   "language": "python",
   "name": "python3"
  },
  "language_info": {
   "codemirror_mode": {
    "name": "ipython",
    "version": 3
   },
   "file_extension": ".py",
   "mimetype": "text/x-python",
   "name": "python",
   "nbconvert_exporter": "python",
   "pygments_lexer": "ipython3",
   "version": "3.10.18"
  }
 },
 "nbformat": 4,
 "nbformat_minor": 5
}
