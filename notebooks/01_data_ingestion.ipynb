{
 "cells": [
  {
   "cell_type": "code",
   "execution_count": 7,
   "id": "bc11f3c5-74b4-4d22-8380-2d2429dac5f3",
   "metadata": {
    "scrolled": true
   },
   "outputs": [],
   "source": [
    "import sys\n",
    "import os\n",
    "\n",
    "sys.path.append(os.path.abspath(os.path.join(os.getcwd(), \"../src\")))\n",
    "\n",
    "from data_ingestion.ingest_news import ingest_articles\n"
   ]
  },
  {
   "cell_type": "code",
   "execution_count": 11,
   "id": "c6708d66-90cf-43a7-aa0b-4a0a13befdcf",
   "metadata": {},
   "outputs": [
    {
     "data": {
      "text/html": [
       "<div>\n",
       "<style scoped>\n",
       "    .dataframe tbody tr th:only-of-type {\n",
       "        vertical-align: middle;\n",
       "    }\n",
       "\n",
       "    .dataframe tbody tr th {\n",
       "        vertical-align: top;\n",
       "    }\n",
       "\n",
       "    .dataframe thead th {\n",
       "        text-align: right;\n",
       "    }\n",
       "</style>\n",
       "<table border=\"1\" class=\"dataframe\">\n",
       "  <thead>\n",
       "    <tr style=\"text-align: right;\">\n",
       "      <th></th>\n",
       "      <th>title</th>\n",
       "      <th>text</th>\n",
       "      <th>source_url</th>\n",
       "      <th>publish_date</th>\n",
       "      <th>authors</th>\n",
       "    </tr>\n",
       "  </thead>\n",
       "  <tbody>\n",
       "    <tr>\n",
       "      <th>0</th>\n",
       "      <td>Possible secret agenda of recent Coast leaders...</td>\n",
       "      <td>CSs Salim Mvurya, Aisha Jumwa and former Momba...</td>\n",
       "      <td>https://www.standardmedia.co.ke/business/busin...</td>\n",
       "      <td>None</td>\n",
       "      <td>[William Kingi]</td>\n",
       "    </tr>\n",
       "  </tbody>\n",
       "</table>\n",
       "</div>"
      ],
      "text/plain": [
       "                                               title  \\\n",
       "0  Possible secret agenda of recent Coast leaders...   \n",
       "\n",
       "                                                text  \\\n",
       "0  CSs Salim Mvurya, Aisha Jumwa and former Momba...   \n",
       "\n",
       "                                          source_url publish_date  \\\n",
       "0  https://www.standardmedia.co.ke/business/busin...         None   \n",
       "\n",
       "           authors  \n",
       "0  [William Kingi]  "
      ]
     },
     "execution_count": 11,
     "metadata": {},
     "output_type": "execute_result"
    }
   ],
   "source": [
    "urls = [\n",
    "    \"https://www.standardmedia.co.ke/business/business/article/2001485370/kenyas-credit-rating-worsens-amid-rising-debt-risks\",\n",
    "]\n",
    "\n",
    "df = ingest_articles(urls)\n",
    "df.head()"
   ]
  },
  {
   "cell_type": "markdown",
   "id": "083cd957-bf40-4f36-94fd-68ae11be0a61",
   "metadata": {},
   "source": [
    "#  Day 1 - News Ingestion Prototype\n",
    "\n",
    "This notebook documents the data ingestion process using `newspaper3k`.\n",
    "\n",
    "###  What Worked\n",
    "- Successfully scraped article from Standard Media (Kenya).\n",
    "- Parsed and saved data: title, text, URL, publish date, authors.\n",
    "- Output saved to `data/raw/news_data.csv`.\n",
    "\n",
    "### What Failed\n",
    "- Other URLs returned errors (403, 404, 401), due to paywalls or scraper-blocking.\n"
   ]
  },
  {
   "cell_type": "code",
   "execution_count": null,
   "id": "caa9d73f-4515-445f-a691-1b8c95b6ad67",
   "metadata": {},
   "outputs": [],
   "source": []
  },
  {
   "cell_type": "code",
   "execution_count": null,
   "id": "802ed92b-273f-4c8e-9aca-65f7cfb01c6f",
   "metadata": {},
   "outputs": [],
   "source": []
  }
 ],
 "metadata": {
  "kernelspec": {
   "display_name": "Python 3 (ipykernel)",
   "language": "python",
   "name": "python3"
  },
  "language_info": {
   "codemirror_mode": {
    "name": "ipython",
    "version": 3
   },
   "file_extension": ".py",
   "mimetype": "text/x-python",
   "name": "python",
   "nbconvert_exporter": "python",
   "pygments_lexer": "ipython3",
   "version": "3.10.18"
  }
 },
 "nbformat": 4,
 "nbformat_minor": 5
}
