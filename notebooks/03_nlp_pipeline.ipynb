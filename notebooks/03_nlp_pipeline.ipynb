{
 "cells": [
  {
   "cell_type": "code",
   "execution_count": 1,
   "id": "5ced734e-9331-41d8-b549-2bfbf88f4edc",
   "metadata": {},
   "outputs": [
    {
     "data": {
      "text/html": [
       "<div>\n",
       "<style scoped>\n",
       "    .dataframe tbody tr th:only-of-type {\n",
       "        vertical-align: middle;\n",
       "    }\n",
       "\n",
       "    .dataframe tbody tr th {\n",
       "        vertical-align: top;\n",
       "    }\n",
       "\n",
       "    .dataframe thead th {\n",
       "        text-align: right;\n",
       "    }\n",
       "</style>\n",
       "<table border=\"1\" class=\"dataframe\">\n",
       "  <thead>\n",
       "    <tr style=\"text-align: right;\">\n",
       "      <th></th>\n",
       "      <th>title</th>\n",
       "      <th>sentiment_score</th>\n",
       "      <th>entities</th>\n",
       "    </tr>\n",
       "  </thead>\n",
       "  <tbody>\n",
       "    <tr>\n",
       "      <th>0</th>\n",
       "      <td>Kenya inflation update</td>\n",
       "      <td>0.068182</td>\n",
       "      <td>[(kenya, GPE)]</td>\n",
       "    </tr>\n",
       "    <tr>\n",
       "      <th>1</th>\n",
       "      <td>UK economy</td>\n",
       "      <td>0.166667</td>\n",
       "      <td>[(uk, GPE)]</td>\n",
       "    </tr>\n",
       "    <tr>\n",
       "      <th>2</th>\n",
       "      <td>Empty article</td>\n",
       "      <td>0.000000</td>\n",
       "      <td>[]</td>\n",
       "    </tr>\n",
       "  </tbody>\n",
       "</table>\n",
       "</div>"
      ],
      "text/plain": [
       "                    title  sentiment_score        entities\n",
       "0  Kenya inflation update         0.068182  [(kenya, GPE)]\n",
       "1              UK economy         0.166667     [(uk, GPE)]\n",
       "2           Empty article         0.000000              []"
      ]
     },
     "execution_count": 1,
     "metadata": {},
     "output_type": "execute_result"
    }
   ],
   "source": [
    "# Imports\n",
    "import pandas as pd\n",
    "from textblob import TextBlob\n",
    "import spacy\n",
    "import os\n",
    "\n",
    "# Load cleaned data\n",
    "df = pd.read_csv(\"../data/processed/cleaned_articles.csv\")\n",
    "\n",
    "# Sentiment analysis function using TextBlob\n",
    "def get_sentiment(text):\n",
    "    if not isinstance(text, str) or not text.strip():\n",
    "        return 0.0\n",
    "    return TextBlob(text).sentiment.polarity\n",
    "\n",
    "# Load spaCy model\n",
    "try:\n",
    "    nlp = spacy.load(\"en_core_web_sm\")\n",
    "except:\n",
    "    import subprocess\n",
    "    subprocess.run([\"python\", \"-m\", \"spacy\", \"download\", \"en_core_web_sm\"])\n",
    "    nlp = spacy.load(\"en_core_web_sm\")\n",
    "\n",
    "# Entity extraction function using spaCy\n",
    "def extract_entities(text):\n",
    "    if not isinstance(text, str) or not text.strip():\n",
    "        return []\n",
    "    doc = nlp(text)\n",
    "    return [(ent.text, ent.label_) for ent in doc.ents]\n",
    "\n",
    "# Apply NLP functions\n",
    "df[\"sentiment_score\"] = df[\"cleaned_text\"].fillna(\"\").apply(get_sentiment)\n",
    "df[\"entities\"] = df[\"cleaned_text\"].fillna(\"\").apply(extract_entities)\n",
    "\n",
    "# Save analyzed dataset\n",
    "os.makedirs(\"../data/processed\", exist_ok=True)\n",
    "df.to_csv(\"../data/processed/analyzed_articles.csv\", index=False)\n",
    "\n",
    "# Display results\n",
    "df[[\"title\", \"sentiment_score\", \"entities\"]]\n"
   ]
  },
  {
   "cell_type": "code",
   "execution_count": null,
   "id": "74f22d8a-ea00-49d3-9a75-222bfc32fb2e",
   "metadata": {},
   "outputs": [],
   "source": []
  }
 ],
 "metadata": {
  "kernelspec": {
   "display_name": "Python 3 (ipykernel)",
   "language": "python",
   "name": "python3"
  },
  "language_info": {
   "codemirror_mode": {
    "name": "ipython",
    "version": 3
   },
   "file_extension": ".py",
   "mimetype": "text/x-python",
   "name": "python",
   "nbconvert_exporter": "python",
   "pygments_lexer": "ipython3",
   "version": "3.10.18"
  }
 },
 "nbformat": 4,
 "nbformat_minor": 5
}
